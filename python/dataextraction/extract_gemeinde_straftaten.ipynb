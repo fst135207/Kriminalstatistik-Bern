{
 "cells": [
  {
   "cell_type": "code",
   "execution_count": 1,
   "metadata": {},
   "outputs": [],
   "source": [
    "import pdfplumber\n",
    "import pandas as pd"
   ]
  },
  {
   "cell_type": "code",
   "execution_count": 2,
   "metadata": {},
   "outputs": [
    {
     "name": "stdout",
     "output_type": "stream",
     "text": [
      "Extrahierte Tabelle:\n",
      "  Strafgesetzbuch: Häufigkeitszahlen (‰) und Vorjahresvergleich nach Verwaltungskreis  \\\n",
      "0                                                T 3                                    \n",
      "1                                                                                       \n",
      "2                                                                                       \n",
      "3                                                                                       \n",
      "4                                               None                                    \n",
      "\n",
      "     None        None     None    None        None     None   None  \n",
      "0    None        None     None    None        None     None   None  \n",
      "1    None        None     None    None        None     None   None  \n",
      "2    2022        None     None    2023        None     None         \n",
      "3    None        None     None    None        None     None  Diff.  \n",
      "4  Straf-  Einwohner/  Häufig-  Straf-  Einwohner/  Häufig-   None  \n"
     ]
    }
   ],
   "source": [
    "with pdfplumber.open(\"kbe_pks_2023.pdf\") as pdf:\n",
    "\n",
    "    page = pdf.pages[12]\n",
    "\n",
    "    table = page.extract_table()\n",
    "    \n",
    "    if table:\n",
    "        # Erstellen eines Dataframe\n",
    "        df = pd.DataFrame(table[1:], columns=table[0])\n",
    "        print(\"Extrahierte Tabelle:\")\n",
    "        print(df.head())\n",
    "    else:\n",
    "        # Falls keine Tabelle gefunden wird einfach text extrahieren\n",
    "        text = page.extract_text()\n",
    "        # Erstelle ein DataFrame, das den Text in einer Spalte anzeigt\n",
    "        df = pd.DataFrame([line for line in text.split('\\n') if line], columns=[\"Text\"])\n",
    "        print(\"Extrahierter Text:\")\n",
    "        print(df.head())"
   ]
  }
 ],
 "metadata": {
  "kernelspec": {
   "display_name": "Python 3",
   "language": "python",
   "name": "python3"
  },
  "language_info": {
   "codemirror_mode": {
    "name": "ipython",
    "version": 3
   },
   "file_extension": ".py",
   "mimetype": "text/x-python",
   "name": "python",
   "nbconvert_exporter": "python",
   "pygments_lexer": "ipython3",
   "version": "3.10.11"
  }
 },
 "nbformat": 4,
 "nbformat_minor": 2
}
